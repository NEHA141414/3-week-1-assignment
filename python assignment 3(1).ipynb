{
 "cells": [
  {
   "cell_type": "markdown",
   "id": "a71973f6",
   "metadata": {},
   "source": [
    "Q-1 Which keyword is used to create a function ? Create a function to return a list of odd number in the range of 1 to 25"
   ]
  },
  {
   "cell_type": "code",
   "execution_count": 1,
   "id": "0b997d24",
   "metadata": {},
   "outputs": [
    {
     "name": "stdout",
     "output_type": "stream",
     "text": [
      "odd_numbers\n"
     ]
    }
   ],
   "source": [
    "# In python  to create a function we use def keyword \n",
    "def odd_numbers_in_range(num1 ,num2) :\n",
    "    return[num for num in range(num1 ,num2+1)\n",
    "          if num %2!=0]\n",
    "odd_numbers=odd_numbers_in_range(1,25)\n",
    "print(\"odd_numbers\")"
   ]
  },
  {
   "cell_type": "code",
   "execution_count": 2,
   "id": "ac910ed9",
   "metadata": {},
   "outputs": [
    {
     "data": {
      "text/plain": [
       "[1, 3, 5, 7, 9, 11, 13, 15, 17, 19, 21, 23, 25]"
      ]
     },
     "execution_count": 2,
     "metadata": {},
     "output_type": "execute_result"
    }
   ],
   "source": [
    "odd_numbers_in_range(1,25)"
   ]
  },
  {
   "cell_type": "markdown",
   "id": "25b6d6cc",
   "metadata": {},
   "source": [
    "Q-2 Why *args and *kwargs is used in some function ? create a function each for *args and **kwargs to demonstrate thier use."
   ]
  },
  {
   "cell_type": "code",
   "execution_count": 3,
   "id": "445d4f63",
   "metadata": {},
   "outputs": [
    {
     "data": {
      "text/plain": [
       "' we use ** kwargs keywords when we pass the keyword argument as the  parameters for the function .\\n     the keyword argument means that we pass the name to each variable , and this list is stored as a dictionary of \\n     key-value pairs. The name of the variable is the key , and the value of the variable is the value of the key.\\n                                                                                                                    '"
      ]
     },
     "execution_count": 3,
     "metadata": {},
     "output_type": "execute_result"
    }
   ],
   "source": [
    "''' with *args , we  can pass any variable length argument list to a function \n",
    "    since * represent variable  number argument so , it becames itrable .\n",
    "                                                                         '''\n",
    "''' we use ** kwargs keywords when we pass the keyword argument as the  parameters for the function .\n",
    "     the keyword argument means that we pass the name to each variable , and this list is stored as a dictionary of \n",
    "     key-value pairs. The name of the variable is the key , and the value of the variable is the value of the key.\n",
    "                                                                                                                    '''"
   ]
  },
  {
   "cell_type": "code",
   "execution_count": 4,
   "id": "a065c651",
   "metadata": {},
   "outputs": [
    {
     "name": "stdout",
     "output_type": "stream",
     "text": [
      "Hello\n",
      "this is neha rana\n"
     ]
    }
   ],
   "source": [
    "#args\n",
    "def multipleFunction(*argv):  \n",
    "    for i in argv:  \n",
    "        print(i)  \n",
    "  \n",
    "  \n",
    "multipleFunction('Hello', 'this is neha rana')  "
   ]
  },
  {
   "cell_type": "code",
   "execution_count": 5,
   "id": "8285a842",
   "metadata": {},
   "outputs": [
    {
     "name": "stdout",
     "output_type": "stream",
     "text": [
      "firstArg == Data\n",
      "Second == science\n",
      "Third == neha\n",
      "Fourth == 6000\n"
     ]
    }
   ],
   "source": [
    "#**kwargs\n",
    "def multipleFunction(**kwargs):  \n",
    "    for key, value in kwargs.items():  \n",
    "        print(\"%s == %s\" % (key, value))  \n",
    "  \n",
    "  \n",
    "multipleFunction(firstArg='Data', Second='science', Third='neha',Fourth = 6000)  \n",
    "       "
   ]
  },
  {
   "cell_type": "markdown",
   "id": "86097b99",
   "metadata": {},
   "source": [
    "Q-3  What is an iterator in python ? Name the method used to initialise the iterator object and the method\n",
    "     used for iterator . Use these methods to print first five elements of the given list [2,4,6,8,10,12,14,16,18,20]."
   ]
  },
  {
   "cell_type": "code",
   "execution_count": 6,
   "id": "fdce4829",
   "metadata": {},
   "outputs": [
    {
     "ename": "IndentationError",
     "evalue": "unexpected indent (3796566728.py, line 4)",
     "output_type": "error",
     "traceback": [
      "\u001b[1;36m  Cell \u001b[1;32mIn[6], line 4\u001b[1;36m\u001b[0m\n\u001b[1;33m    ''' next() and iter() function are used to iimplement iterator.'''\u001b[0m\n\u001b[1;37m    ^\u001b[0m\n\u001b[1;31mIndentationError\u001b[0m\u001b[1;31m:\u001b[0m unexpected indent\n"
     ]
    }
   ],
   "source": [
    "''' \n",
    "   In python an iterator is an object that allows you to iterate over collections of data ,\n",
    "     such as lists , tuple ,dictionaries , and sets.'''\n",
    "    ''' next() and iter() function are used to iimplement iterator.'''\n",
    " "
   ]
  },
  {
   "cell_type": "code",
   "execution_count": 7,
   "id": "c7dd9be3",
   "metadata": {},
   "outputs": [
    {
     "name": "stdout",
     "output_type": "stream",
     "text": [
      "apple\n",
      "banana\n",
      "cherry\n"
     ]
    }
   ],
   "source": [
    "mytuple = (\"apple\", \"banana\", \"cherry\")\n",
    "myit = iter(mytuple)\n",
    "\n",
    "print(next(myit))\n",
    "print(next(myit))\n",
    "print(next(myit))"
   ]
  },
  {
   "cell_type": "code",
   "execution_count": 8,
   "id": "d482a579",
   "metadata": {},
   "outputs": [
    {
     "name": "stdout",
     "output_type": "stream",
     "text": [
      "2\n",
      "4\n",
      "6\n",
      "8\n",
      "10\n"
     ]
    }
   ],
   "source": [
    "l=[2,4,6,8,10,12,14,16,18,20]\n",
    "myit=iter(l)\n",
    "print(next(myit))\n",
    "print(next(myit))\n",
    "print(next(myit))\n",
    "print(next(myit))\n",
    "print(next(myit))"
   ]
  },
  {
   "cell_type": "markdown",
   "id": "2edee642",
   "metadata": {},
   "source": [
    "Q-4 what is a generator function in python ? Why yield keyword is used ? give an example of a generator function."
   ]
  },
  {
   "cell_type": "markdown",
   "id": "8a104ea2",
   "metadata": {},
   "source": [
    "'''\n",
    "   In python , a generator is a function that returns an iterator that produces a sequence of values when iterated over.\n",
    "                                                                                                                        '''\n",
    "'''\n",
    "    Yield keyword is used to create a generator function . A type of function that is memory efficient and can be used like an iterator.\n",
    "                                                                                                                                        '''"
   ]
  },
  {
   "cell_type": "code",
   "execution_count": 9,
   "id": "9a4d0aff",
   "metadata": {},
   "outputs": [],
   "source": [
    "import random"
   ]
  },
  {
   "cell_type": "code",
   "execution_count": 10,
   "id": "55e7cf9c",
   "metadata": {},
   "outputs": [],
   "source": [
    "def random_num_generator():\n",
    "    while True:\n",
    "        yield random.randint(1,101)"
   ]
  },
  {
   "cell_type": "code",
   "execution_count": 11,
   "id": "4382abd9",
   "metadata": {},
   "outputs": [
    {
     "data": {
      "text/plain": [
       "[40, 37, 77, 72, 95]"
      ]
     },
     "execution_count": 11,
     "metadata": {},
     "output_type": "execute_result"
    }
   ],
   "source": [
    "random_gen=random_num_generator()\n",
    "[next(random_gen) for  _ in range(5)]"
   ]
  },
  {
   "cell_type": "markdown",
   "id": "2b6a5d37",
   "metadata": {},
   "source": [
    "Q-5 Create a genrator function for prime number less than 1000 .Use the next() method to print the first 20 prime number"
   ]
  },
  {
   "cell_type": "code",
   "execution_count": 1,
   "id": "407ea5ce",
   "metadata": {},
   "outputs": [],
   "source": [
    "def is_prime(num):\n",
    "    if num<2:\n",
    "        return False\n",
    "    for i in range(2,int(num**0.5)+1):\n",
    "        if num %i==0:\n",
    "            return False \n",
    "        return True\n",
    "                    "
   ]
  },
  {
   "cell_type": "code",
   "execution_count": 2,
   "id": "dd83a2b6",
   "metadata": {},
   "outputs": [],
   "source": [
    "def primes():\n",
    "        num=2\n",
    "        while num<1000:\n",
    "            if is_prime(num):\n",
    "                yield num\n",
    "                num+=1\n",
    "                    "
   ]
  },
  {
   "cell_type": "code",
   "execution_count": null,
   "id": "499c7b5e",
   "metadata": {},
   "outputs": [],
   "source": [
    "gen=primes()\n",
    "print(next(gen))\n",
    "print(next(gen))\n",
    "print(next(gen))\n",
    "print(next(gen))\n"
   ]
  },
  {
   "cell_type": "markdown",
   "id": "90d4154a",
   "metadata": {},
   "source": [
    "Q-6 Write a python program to print the first 10 fibonacci numbers using a while loop."
   ]
  },
  {
   "cell_type": "code",
   "execution_count": 1,
   "id": "f299addb",
   "metadata": {},
   "outputs": [
    {
     "name": "stdout",
     "output_type": "stream",
     "text": [
      "0\n",
      "1\n",
      "1\n",
      "2\n",
      "3\n",
      "5\n",
      "8\n",
      "13\n",
      "21\n",
      "34\n"
     ]
    }
   ],
   "source": [
    "num1=0\n",
    "num2=1\n",
    "count=0\n",
    "while count<10:\n",
    "    print(num1)\n",
    "    next_num=num1+num2\n",
    "    num1=num2\n",
    "    num2=next_num\n",
    "    count+=1"
   ]
  },
  {
   "cell_type": "markdown",
   "id": "026fc12d",
   "metadata": {},
   "source": [
    "Q-7  Write a list comprehension to iterate through the given string :'pwskills',expected output :['p','w','s','k','i','l','l','s']"
   ]
  },
  {
   "cell_type": "code",
   "execution_count": 2,
   "id": "342b4075",
   "metadata": {},
   "outputs": [
    {
     "name": "stdout",
     "output_type": "stream",
     "text": [
      "['p']\n",
      "['p', 'w']\n",
      "['p', 'w', 's']\n",
      "['p', 'w', 's', 'k']\n",
      "['p', 'w', 's', 'k', 'i']\n",
      "['p', 'w', 's', 'k', 'i', 'l']\n",
      "['p', 'w', 's', 'k', 'i', 'l', 'l']\n",
      "['p', 'w', 's', 'k', 'i', 'l', 'l', 's']\n"
     ]
    }
   ],
   "source": [
    "list=[]\n",
    "for i in 'pwskills':\n",
    "    list.append(i)\n",
    "    print(list)"
   ]
  },
  {
   "cell_type": "markdown",
   "id": "ad2c52ac",
   "metadata": {},
   "source": [
    "Q-8  Write a python program to check whether a given number is palindrome or not using a while loop."
   ]
  },
  {
   "cell_type": "code",
   "execution_count": 7,
   "id": "434296ee",
   "metadata": {},
   "outputs": [
    {
     "ename": "IndentationError",
     "evalue": "unindent does not match any outer indentation level (<tokenize>, line 7)",
     "output_type": "error",
     "traceback": [
      "\u001b[1;36m  File \u001b[1;32m<tokenize>:7\u001b[1;36m\u001b[0m\n\u001b[1;33m    if (num==revers):\u001b[0m\n\u001b[1;37m    ^\u001b[0m\n\u001b[1;31mIndentationError\u001b[0m\u001b[1;31m:\u001b[0m unindent does not match any outer indentation level\n"
     ]
    }
   ],
   "source": [
    "num=int(input(\"Enter a value\"))\n",
    "revers=0\n",
    "   while(num !=0):\n",
    "     reminder=num %10\n",
    "     revers=revers*10+reminder\n",
    "     num=int(num//10)\n",
    "    if (num==revers):\n",
    "        print(\"This value is a palindrome!\")\n",
    "    else:\n",
    "        print(\"This value is not a palindrome\")"
   ]
  },
  {
   "cell_type": "markdown",
   "id": "f324c1e7",
   "metadata": {},
   "source": [
    "Q-9 Write a code to print odd nmbers from 1 to 100 using list comprehension."
   ]
  },
  {
   "cell_type": "code",
   "execution_count": 8,
   "id": "573f4c45",
   "metadata": {},
   "outputs": [
    {
     "name": "stdout",
     "output_type": "stream",
     "text": [
      "[1, 3, 5, 7, 9, 11, 13, 15, 17, 19, 21, 23, 25, 27, 29, 31, 33, 35, 37, 39, 41, 43, 45, 47, 49, 51, 53, 55, 57, 59, 61, 63, 65, 67, 69, 71, 73, 75, 77, 79, 81, 83, 85, 87, 89, 91, 93, 95, 97, 99]\n"
     ]
    }
   ],
   "source": [
    "odd_list=[element for element in range (1,101) if element % 2==1]\n",
    "print(odd_list)"
   ]
  },
  {
   "cell_type": "code",
   "execution_count": null,
   "id": "fee7e9b6",
   "metadata": {},
   "outputs": [],
   "source": []
  }
 ],
 "metadata": {
  "kernelspec": {
   "display_name": "Python 3 (ipykernel)",
   "language": "python",
   "name": "python3"
  },
  "language_info": {
   "codemirror_mode": {
    "name": "ipython",
    "version": 3
   },
   "file_extension": ".py",
   "mimetype": "text/x-python",
   "name": "python",
   "nbconvert_exporter": "python",
   "pygments_lexer": "ipython3",
   "version": "3.10.9"
  }
 },
 "nbformat": 4,
 "nbformat_minor": 5
}
